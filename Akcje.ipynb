{
 "cells": [
  {
   "cell_type": "markdown",
   "id": "b7dc1481-9411-4295-b089-c7e113517452",
   "metadata": {},
   "source": [
    "## Import"
   ]
  },
  {
   "cell_type": "code",
   "execution_count": 1,
   "id": "0d4cd3a5-e822-42e5-abca-62dc93c538b0",
   "metadata": {},
   "outputs": [],
   "source": [
    "import pandas as pd\n",
    "import numpy as np\n",
    "import matplotlib.pyplot as plt\n",
    "import seaborn as sns"
   ]
  },
  {
   "cell_type": "markdown",
   "id": "615b0fe7-0440-49ef-95d7-1bd20cf6fdad",
   "metadata": {},
   "source": [
    "## Data"
   ]
  },
  {
   "cell_type": "code",
   "execution_count": 2,
   "id": "5ce10259-f515-4677-91bd-1dda79e81ee9",
   "metadata": {},
   "outputs": [],
   "source": [
    "df = pd.read_excel(\"akcje.xlsx\")"
   ]
  },
  {
   "cell_type": "code",
   "execution_count": 3,
   "id": "e80f0d88-78c1-41f7-90bf-6e704b8b9586",
   "metadata": {},
   "outputs": [
    {
     "data": {
      "text/html": [
       "<div>\n",
       "<style scoped>\n",
       "    .dataframe tbody tr th:only-of-type {\n",
       "        vertical-align: middle;\n",
       "    }\n",
       "\n",
       "    .dataframe tbody tr th {\n",
       "        vertical-align: top;\n",
       "    }\n",
       "\n",
       "    .dataframe thead th {\n",
       "        text-align: right;\n",
       "    }\n",
       "</style>\n",
       "<table border=\"1\" class=\"dataframe\">\n",
       "  <thead>\n",
       "    <tr style=\"text-align: right;\">\n",
       "      <th></th>\n",
       "      <th>symbol</th>\n",
       "      <th>date</th>\n",
       "      <th>open</th>\n",
       "      <th>high</th>\n",
       "      <th>low</th>\n",
       "      <th>close</th>\n",
       "      <th>volume</th>\n",
       "    </tr>\n",
       "  </thead>\n",
       "  <tbody>\n",
       "    <tr>\n",
       "      <th>0</th>\n",
       "      <td>AAL</td>\n",
       "      <td>2014-01-02</td>\n",
       "      <td>25.0700</td>\n",
       "      <td>25.8200</td>\n",
       "      <td>25.0600</td>\n",
       "      <td>25.3600</td>\n",
       "      <td>8998943</td>\n",
       "    </tr>\n",
       "    <tr>\n",
       "      <th>1</th>\n",
       "      <td>AAPL</td>\n",
       "      <td>2014-01-02</td>\n",
       "      <td>79.3828</td>\n",
       "      <td>79.5756</td>\n",
       "      <td>78.8601</td>\n",
       "      <td>79.0185</td>\n",
       "      <td>58791957</td>\n",
       "    </tr>\n",
       "    <tr>\n",
       "      <th>2</th>\n",
       "      <td>AAP</td>\n",
       "      <td>2014-01-02</td>\n",
       "      <td>110.3600</td>\n",
       "      <td>111.8800</td>\n",
       "      <td>109.2900</td>\n",
       "      <td>109.7400</td>\n",
       "      <td>542711</td>\n",
       "    </tr>\n",
       "    <tr>\n",
       "      <th>3</th>\n",
       "      <td>ABBV</td>\n",
       "      <td>2014-01-02</td>\n",
       "      <td>52.1200</td>\n",
       "      <td>52.3300</td>\n",
       "      <td>51.5200</td>\n",
       "      <td>51.9800</td>\n",
       "      <td>4569061</td>\n",
       "    </tr>\n",
       "    <tr>\n",
       "      <th>4</th>\n",
       "      <td>ABC</td>\n",
       "      <td>2014-01-02</td>\n",
       "      <td>70.1100</td>\n",
       "      <td>70.2300</td>\n",
       "      <td>69.4800</td>\n",
       "      <td>69.8900</td>\n",
       "      <td>1148391</td>\n",
       "    </tr>\n",
       "    <tr>\n",
       "      <th>...</th>\n",
       "      <td>...</td>\n",
       "      <td>...</td>\n",
       "      <td>...</td>\n",
       "      <td>...</td>\n",
       "      <td>...</td>\n",
       "      <td>...</td>\n",
       "      <td>...</td>\n",
       "    </tr>\n",
       "    <tr>\n",
       "      <th>497467</th>\n",
       "      <td>XYL</td>\n",
       "      <td>2017-12-29</td>\n",
       "      <td>68.5300</td>\n",
       "      <td>68.8000</td>\n",
       "      <td>67.9200</td>\n",
       "      <td>68.2000</td>\n",
       "      <td>1046677</td>\n",
       "    </tr>\n",
       "    <tr>\n",
       "      <th>497468</th>\n",
       "      <td>YUM</td>\n",
       "      <td>2017-12-29</td>\n",
       "      <td>82.6400</td>\n",
       "      <td>82.7100</td>\n",
       "      <td>81.5900</td>\n",
       "      <td>81.6100</td>\n",
       "      <td>1347613</td>\n",
       "    </tr>\n",
       "    <tr>\n",
       "      <th>497469</th>\n",
       "      <td>ZBH</td>\n",
       "      <td>2017-12-29</td>\n",
       "      <td>121.7500</td>\n",
       "      <td>121.9500</td>\n",
       "      <td>120.6200</td>\n",
       "      <td>120.6700</td>\n",
       "      <td>1023624</td>\n",
       "    </tr>\n",
       "    <tr>\n",
       "      <th>497470</th>\n",
       "      <td>ZION</td>\n",
       "      <td>2017-12-29</td>\n",
       "      <td>51.2800</td>\n",
       "      <td>51.5500</td>\n",
       "      <td>50.8100</td>\n",
       "      <td>50.8300</td>\n",
       "      <td>1261916</td>\n",
       "    </tr>\n",
       "    <tr>\n",
       "      <th>497471</th>\n",
       "      <td>ZTS</td>\n",
       "      <td>2017-12-29</td>\n",
       "      <td>72.5500</td>\n",
       "      <td>72.7600</td>\n",
       "      <td>72.0400</td>\n",
       "      <td>72.0400</td>\n",
       "      <td>1704122</td>\n",
       "    </tr>\n",
       "  </tbody>\n",
       "</table>\n",
       "<p>497472 rows × 7 columns</p>\n",
       "</div>"
      ],
      "text/plain": [
       "       symbol       date      open      high       low     close    volume\n",
       "0         AAL 2014-01-02   25.0700   25.8200   25.0600   25.3600   8998943\n",
       "1        AAPL 2014-01-02   79.3828   79.5756   78.8601   79.0185  58791957\n",
       "2         AAP 2014-01-02  110.3600  111.8800  109.2900  109.7400    542711\n",
       "3        ABBV 2014-01-02   52.1200   52.3300   51.5200   51.9800   4569061\n",
       "4         ABC 2014-01-02   70.1100   70.2300   69.4800   69.8900   1148391\n",
       "...       ...        ...       ...       ...       ...       ...       ...\n",
       "497467    XYL 2017-12-29   68.5300   68.8000   67.9200   68.2000   1046677\n",
       "497468    YUM 2017-12-29   82.6400   82.7100   81.5900   81.6100   1347613\n",
       "497469    ZBH 2017-12-29  121.7500  121.9500  120.6200  120.6700   1023624\n",
       "497470   ZION 2017-12-29   51.2800   51.5500   50.8100   50.8300   1261916\n",
       "497471    ZTS 2017-12-29   72.5500   72.7600   72.0400   72.0400   1704122\n",
       "\n",
       "[497472 rows x 7 columns]"
      ]
     },
     "execution_count": 3,
     "metadata": {},
     "output_type": "execute_result"
    }
   ],
   "source": [
    "df"
   ]
  },
  {
   "cell_type": "markdown",
   "id": "7f81d51b-e7bc-4531-b34f-679986c584ab",
   "metadata": {},
   "source": [
    "## Cleaning"
   ]
  },
  {
   "cell_type": "code",
   "execution_count": 5,
   "id": "fb42755a-ec4f-4d04-824a-cee4e025a4e1",
   "metadata": {},
   "outputs": [
    {
     "data": {
      "text/plain": [
       "symbol    False\n",
       "date      False\n",
       "open       True\n",
       "high       True\n",
       "low        True\n",
       "close     False\n",
       "volume    False\n",
       "dtype: bool"
      ]
     },
     "execution_count": 5,
     "metadata": {},
     "output_type": "execute_result"
    }
   ],
   "source": [
    "df.isnull().any()"
   ]
  },
  {
   "cell_type": "code",
   "execution_count": 6,
   "id": "a7e98f6c-b36b-449d-b86f-a4aac6c15a11",
   "metadata": {},
   "outputs": [
    {
     "data": {
      "text/html": [
       "<div>\n",
       "<style scoped>\n",
       "    .dataframe tbody tr th:only-of-type {\n",
       "        vertical-align: middle;\n",
       "    }\n",
       "\n",
       "    .dataframe tbody tr th {\n",
       "        vertical-align: top;\n",
       "    }\n",
       "\n",
       "    .dataframe thead th {\n",
       "        text-align: right;\n",
       "    }\n",
       "</style>\n",
       "<table border=\"1\" class=\"dataframe\">\n",
       "  <thead>\n",
       "    <tr style=\"text-align: right;\">\n",
       "      <th></th>\n",
       "      <th>symbol</th>\n",
       "      <th>date</th>\n",
       "      <th>open</th>\n",
       "      <th>high</th>\n",
       "      <th>low</th>\n",
       "      <th>close</th>\n",
       "      <th>volume</th>\n",
       "    </tr>\n",
       "  </thead>\n",
       "  <tbody>\n",
       "    <tr>\n",
       "      <th>0</th>\n",
       "      <td>AAL</td>\n",
       "      <td>2014-01-02</td>\n",
       "      <td>25.0700</td>\n",
       "      <td>25.8200</td>\n",
       "      <td>25.0600</td>\n",
       "      <td>25.3600</td>\n",
       "      <td>8998943</td>\n",
       "    </tr>\n",
       "    <tr>\n",
       "      <th>1</th>\n",
       "      <td>AAPL</td>\n",
       "      <td>2014-01-02</td>\n",
       "      <td>79.3828</td>\n",
       "      <td>79.5756</td>\n",
       "      <td>78.8601</td>\n",
       "      <td>79.0185</td>\n",
       "      <td>58791957</td>\n",
       "    </tr>\n",
       "    <tr>\n",
       "      <th>2</th>\n",
       "      <td>AAP</td>\n",
       "      <td>2014-01-02</td>\n",
       "      <td>110.3600</td>\n",
       "      <td>111.8800</td>\n",
       "      <td>109.2900</td>\n",
       "      <td>109.7400</td>\n",
       "      <td>542711</td>\n",
       "    </tr>\n",
       "    <tr>\n",
       "      <th>3</th>\n",
       "      <td>ABBV</td>\n",
       "      <td>2014-01-02</td>\n",
       "      <td>52.1200</td>\n",
       "      <td>52.3300</td>\n",
       "      <td>51.5200</td>\n",
       "      <td>51.9800</td>\n",
       "      <td>4569061</td>\n",
       "    </tr>\n",
       "    <tr>\n",
       "      <th>4</th>\n",
       "      <td>ABC</td>\n",
       "      <td>2014-01-02</td>\n",
       "      <td>70.1100</td>\n",
       "      <td>70.2300</td>\n",
       "      <td>69.4800</td>\n",
       "      <td>69.8900</td>\n",
       "      <td>1148391</td>\n",
       "    </tr>\n",
       "    <tr>\n",
       "      <th>...</th>\n",
       "      <td>...</td>\n",
       "      <td>...</td>\n",
       "      <td>...</td>\n",
       "      <td>...</td>\n",
       "      <td>...</td>\n",
       "      <td>...</td>\n",
       "      <td>...</td>\n",
       "    </tr>\n",
       "    <tr>\n",
       "      <th>497467</th>\n",
       "      <td>XYL</td>\n",
       "      <td>2017-12-29</td>\n",
       "      <td>68.5300</td>\n",
       "      <td>68.8000</td>\n",
       "      <td>67.9200</td>\n",
       "      <td>68.2000</td>\n",
       "      <td>1046677</td>\n",
       "    </tr>\n",
       "    <tr>\n",
       "      <th>497468</th>\n",
       "      <td>YUM</td>\n",
       "      <td>2017-12-29</td>\n",
       "      <td>82.6400</td>\n",
       "      <td>82.7100</td>\n",
       "      <td>81.5900</td>\n",
       "      <td>81.6100</td>\n",
       "      <td>1347613</td>\n",
       "    </tr>\n",
       "    <tr>\n",
       "      <th>497469</th>\n",
       "      <td>ZBH</td>\n",
       "      <td>2017-12-29</td>\n",
       "      <td>121.7500</td>\n",
       "      <td>121.9500</td>\n",
       "      <td>120.6200</td>\n",
       "      <td>120.6700</td>\n",
       "      <td>1023624</td>\n",
       "    </tr>\n",
       "    <tr>\n",
       "      <th>497470</th>\n",
       "      <td>ZION</td>\n",
       "      <td>2017-12-29</td>\n",
       "      <td>51.2800</td>\n",
       "      <td>51.5500</td>\n",
       "      <td>50.8100</td>\n",
       "      <td>50.8300</td>\n",
       "      <td>1261916</td>\n",
       "    </tr>\n",
       "    <tr>\n",
       "      <th>497471</th>\n",
       "      <td>ZTS</td>\n",
       "      <td>2017-12-29</td>\n",
       "      <td>72.5500</td>\n",
       "      <td>72.7600</td>\n",
       "      <td>72.0400</td>\n",
       "      <td>72.0400</td>\n",
       "      <td>1704122</td>\n",
       "    </tr>\n",
       "  </tbody>\n",
       "</table>\n",
       "<p>497472 rows × 7 columns</p>\n",
       "</div>"
      ],
      "text/plain": [
       "       symbol       date      open      high       low     close    volume\n",
       "0         AAL 2014-01-02   25.0700   25.8200   25.0600   25.3600   8998943\n",
       "1        AAPL 2014-01-02   79.3828   79.5756   78.8601   79.0185  58791957\n",
       "2         AAP 2014-01-02  110.3600  111.8800  109.2900  109.7400    542711\n",
       "3        ABBV 2014-01-02   52.1200   52.3300   51.5200   51.9800   4569061\n",
       "4         ABC 2014-01-02   70.1100   70.2300   69.4800   69.8900   1148391\n",
       "...       ...        ...       ...       ...       ...       ...       ...\n",
       "497467    XYL 2017-12-29   68.5300   68.8000   67.9200   68.2000   1046677\n",
       "497468    YUM 2017-12-29   82.6400   82.7100   81.5900   81.6100   1347613\n",
       "497469    ZBH 2017-12-29  121.7500  121.9500  120.6200  120.6700   1023624\n",
       "497470   ZION 2017-12-29   51.2800   51.5500   50.8100   50.8300   1261916\n",
       "497471    ZTS 2017-12-29   72.5500   72.7600   72.0400   72.0400   1704122\n",
       "\n",
       "[497472 rows x 7 columns]"
      ]
     },
     "execution_count": 6,
     "metadata": {},
     "output_type": "execute_result"
    }
   ],
   "source": [
    "df.fillna(0)"
   ]
  },
  {
   "cell_type": "code",
   "execution_count": 7,
   "id": "5b8d96f6-e6b1-4708-8f2a-7037e1d6e88e",
   "metadata": {},
   "outputs": [
    {
     "data": {
      "text/plain": [
       "symbol    False\n",
       "date      False\n",
       "open       True\n",
       "high       True\n",
       "low        True\n",
       "close     False\n",
       "volume    False\n",
       "dtype: bool"
      ]
     },
     "execution_count": 7,
     "metadata": {},
     "output_type": "execute_result"
    }
   ],
   "source": [
    "df.isnull().any()"
   ]
  },
  {
   "cell_type": "code",
   "execution_count": 13,
   "id": "841d7940-eb0b-4665-bb11-d7e6e07611e6",
   "metadata": {},
   "outputs": [
    {
     "data": {
      "text/html": [
       "<div>\n",
       "<style scoped>\n",
       "    .dataframe tbody tr th:only-of-type {\n",
       "        vertical-align: middle;\n",
       "    }\n",
       "\n",
       "    .dataframe tbody tr th {\n",
       "        vertical-align: top;\n",
       "    }\n",
       "\n",
       "    .dataframe thead th {\n",
       "        text-align: right;\n",
       "    }\n",
       "</style>\n",
       "<table border=\"1\" class=\"dataframe\">\n",
       "  <thead>\n",
       "    <tr style=\"text-align: right;\">\n",
       "      <th></th>\n",
       "      <th>symbol</th>\n",
       "      <th>date</th>\n",
       "      <th>open</th>\n",
       "      <th>high</th>\n",
       "      <th>low</th>\n",
       "      <th>close</th>\n",
       "      <th>volume</th>\n",
       "    </tr>\n",
       "  </thead>\n",
       "  <tbody>\n",
       "    <tr>\n",
       "      <th>0</th>\n",
       "      <td>AAL</td>\n",
       "      <td>2014-01-02</td>\n",
       "      <td>25.0700</td>\n",
       "      <td>25.8200</td>\n",
       "      <td>25.0600</td>\n",
       "      <td>25.3600</td>\n",
       "      <td>8998943</td>\n",
       "    </tr>\n",
       "    <tr>\n",
       "      <th>1</th>\n",
       "      <td>AAPL</td>\n",
       "      <td>2014-01-02</td>\n",
       "      <td>79.3828</td>\n",
       "      <td>79.5756</td>\n",
       "      <td>78.8601</td>\n",
       "      <td>79.0185</td>\n",
       "      <td>58791957</td>\n",
       "    </tr>\n",
       "    <tr>\n",
       "      <th>2</th>\n",
       "      <td>AAP</td>\n",
       "      <td>2014-01-02</td>\n",
       "      <td>110.3600</td>\n",
       "      <td>111.8800</td>\n",
       "      <td>109.2900</td>\n",
       "      <td>109.7400</td>\n",
       "      <td>542711</td>\n",
       "    </tr>\n",
       "    <tr>\n",
       "      <th>3</th>\n",
       "      <td>ABBV</td>\n",
       "      <td>2014-01-02</td>\n",
       "      <td>52.1200</td>\n",
       "      <td>52.3300</td>\n",
       "      <td>51.5200</td>\n",
       "      <td>51.9800</td>\n",
       "      <td>4569061</td>\n",
       "    </tr>\n",
       "    <tr>\n",
       "      <th>4</th>\n",
       "      <td>ABC</td>\n",
       "      <td>2014-01-02</td>\n",
       "      <td>70.1100</td>\n",
       "      <td>70.2300</td>\n",
       "      <td>69.4800</td>\n",
       "      <td>69.8900</td>\n",
       "      <td>1148391</td>\n",
       "    </tr>\n",
       "    <tr>\n",
       "      <th>...</th>\n",
       "      <td>...</td>\n",
       "      <td>...</td>\n",
       "      <td>...</td>\n",
       "      <td>...</td>\n",
       "      <td>...</td>\n",
       "      <td>...</td>\n",
       "      <td>...</td>\n",
       "    </tr>\n",
       "    <tr>\n",
       "      <th>497467</th>\n",
       "      <td>XYL</td>\n",
       "      <td>2017-12-29</td>\n",
       "      <td>68.5300</td>\n",
       "      <td>68.8000</td>\n",
       "      <td>67.9200</td>\n",
       "      <td>68.2000</td>\n",
       "      <td>1046677</td>\n",
       "    </tr>\n",
       "    <tr>\n",
       "      <th>497468</th>\n",
       "      <td>YUM</td>\n",
       "      <td>2017-12-29</td>\n",
       "      <td>82.6400</td>\n",
       "      <td>82.7100</td>\n",
       "      <td>81.5900</td>\n",
       "      <td>81.6100</td>\n",
       "      <td>1347613</td>\n",
       "    </tr>\n",
       "    <tr>\n",
       "      <th>497469</th>\n",
       "      <td>ZBH</td>\n",
       "      <td>2017-12-29</td>\n",
       "      <td>121.7500</td>\n",
       "      <td>121.9500</td>\n",
       "      <td>120.6200</td>\n",
       "      <td>120.6700</td>\n",
       "      <td>1023624</td>\n",
       "    </tr>\n",
       "    <tr>\n",
       "      <th>497470</th>\n",
       "      <td>ZION</td>\n",
       "      <td>2017-12-29</td>\n",
       "      <td>51.2800</td>\n",
       "      <td>51.5500</td>\n",
       "      <td>50.8100</td>\n",
       "      <td>50.8300</td>\n",
       "      <td>1261916</td>\n",
       "    </tr>\n",
       "    <tr>\n",
       "      <th>497471</th>\n",
       "      <td>ZTS</td>\n",
       "      <td>2017-12-29</td>\n",
       "      <td>72.5500</td>\n",
       "      <td>72.7600</td>\n",
       "      <td>72.0400</td>\n",
       "      <td>72.0400</td>\n",
       "      <td>1704122</td>\n",
       "    </tr>\n",
       "  </tbody>\n",
       "</table>\n",
       "<p>497472 rows × 7 columns</p>\n",
       "</div>"
      ],
      "text/plain": [
       "       symbol       date      open      high       low     close    volume\n",
       "0         AAL 2014-01-02   25.0700   25.8200   25.0600   25.3600   8998943\n",
       "1        AAPL 2014-01-02   79.3828   79.5756   78.8601   79.0185  58791957\n",
       "2         AAP 2014-01-02  110.3600  111.8800  109.2900  109.7400    542711\n",
       "3        ABBV 2014-01-02   52.1200   52.3300   51.5200   51.9800   4569061\n",
       "4         ABC 2014-01-02   70.1100   70.2300   69.4800   69.8900   1148391\n",
       "...       ...        ...       ...       ...       ...       ...       ...\n",
       "497467    XYL 2017-12-29   68.5300   68.8000   67.9200   68.2000   1046677\n",
       "497468    YUM 2017-12-29   82.6400   82.7100   81.5900   81.6100   1347613\n",
       "497469    ZBH 2017-12-29  121.7500  121.9500  120.6200  120.6700   1023624\n",
       "497470   ZION 2017-12-29   51.2800   51.5500   50.8100   50.8300   1261916\n",
       "497471    ZTS 2017-12-29   72.5500   72.7600   72.0400   72.0400   1704122\n",
       "\n",
       "[497472 rows x 7 columns]"
      ]
     },
     "execution_count": 13,
     "metadata": {},
     "output_type": "execute_result"
    }
   ],
   "source": [
    "df.fillna(0)"
   ]
  },
  {
   "cell_type": "code",
   "execution_count": 14,
   "id": "ddbc0123-0585-4809-be81-3db17188fdeb",
   "metadata": {},
   "outputs": [
    {
     "data": {
      "text/plain": [
       "symbol    False\n",
       "date      False\n",
       "open       True\n",
       "high       True\n",
       "low        True\n",
       "close     False\n",
       "volume    False\n",
       "dtype: bool"
      ]
     },
     "execution_count": 14,
     "metadata": {},
     "output_type": "execute_result"
    }
   ],
   "source": [
    "df.isnull().any()"
   ]
  },
  {
   "cell_type": "code",
   "execution_count": 9,
   "id": "8753b725-1aa7-4191-ad94-fb449f736ddd",
   "metadata": {},
   "outputs": [
    {
     "data": {
      "text/html": [
       "<div>\n",
       "<style scoped>\n",
       "    .dataframe tbody tr th:only-of-type {\n",
       "        vertical-align: middle;\n",
       "    }\n",
       "\n",
       "    .dataframe tbody tr th {\n",
       "        vertical-align: top;\n",
       "    }\n",
       "\n",
       "    .dataframe thead th {\n",
       "        text-align: right;\n",
       "    }\n",
       "</style>\n",
       "<table border=\"1\" class=\"dataframe\">\n",
       "  <thead>\n",
       "    <tr style=\"text-align: right;\">\n",
       "      <th></th>\n",
       "      <th>symbol</th>\n",
       "      <th>date</th>\n",
       "      <th>open</th>\n",
       "      <th>high</th>\n",
       "      <th>low</th>\n",
       "      <th>close</th>\n",
       "      <th>volume</th>\n",
       "    </tr>\n",
       "  </thead>\n",
       "  <tbody>\n",
       "    <tr>\n",
       "      <th>0</th>\n",
       "      <td>AAL</td>\n",
       "      <td>2014-01-02</td>\n",
       "      <td>25.0700</td>\n",
       "      <td>25.8200</td>\n",
       "      <td>25.0600</td>\n",
       "      <td>25.3600</td>\n",
       "      <td>8998943</td>\n",
       "    </tr>\n",
       "    <tr>\n",
       "      <th>1</th>\n",
       "      <td>AAPL</td>\n",
       "      <td>2014-01-02</td>\n",
       "      <td>79.3828</td>\n",
       "      <td>79.5756</td>\n",
       "      <td>78.8601</td>\n",
       "      <td>79.0185</td>\n",
       "      <td>58791957</td>\n",
       "    </tr>\n",
       "    <tr>\n",
       "      <th>2</th>\n",
       "      <td>AAP</td>\n",
       "      <td>2014-01-02</td>\n",
       "      <td>110.3600</td>\n",
       "      <td>111.8800</td>\n",
       "      <td>109.2900</td>\n",
       "      <td>109.7400</td>\n",
       "      <td>542711</td>\n",
       "    </tr>\n",
       "    <tr>\n",
       "      <th>3</th>\n",
       "      <td>ABBV</td>\n",
       "      <td>2014-01-02</td>\n",
       "      <td>52.1200</td>\n",
       "      <td>52.3300</td>\n",
       "      <td>51.5200</td>\n",
       "      <td>51.9800</td>\n",
       "      <td>4569061</td>\n",
       "    </tr>\n",
       "    <tr>\n",
       "      <th>4</th>\n",
       "      <td>ABC</td>\n",
       "      <td>2014-01-02</td>\n",
       "      <td>70.1100</td>\n",
       "      <td>70.2300</td>\n",
       "      <td>69.4800</td>\n",
       "      <td>69.8900</td>\n",
       "      <td>1148391</td>\n",
       "    </tr>\n",
       "    <tr>\n",
       "      <th>...</th>\n",
       "      <td>...</td>\n",
       "      <td>...</td>\n",
       "      <td>...</td>\n",
       "      <td>...</td>\n",
       "      <td>...</td>\n",
       "      <td>...</td>\n",
       "      <td>...</td>\n",
       "    </tr>\n",
       "    <tr>\n",
       "      <th>497467</th>\n",
       "      <td>XYL</td>\n",
       "      <td>2017-12-29</td>\n",
       "      <td>68.5300</td>\n",
       "      <td>68.8000</td>\n",
       "      <td>67.9200</td>\n",
       "      <td>68.2000</td>\n",
       "      <td>1046677</td>\n",
       "    </tr>\n",
       "    <tr>\n",
       "      <th>497468</th>\n",
       "      <td>YUM</td>\n",
       "      <td>2017-12-29</td>\n",
       "      <td>82.6400</td>\n",
       "      <td>82.7100</td>\n",
       "      <td>81.5900</td>\n",
       "      <td>81.6100</td>\n",
       "      <td>1347613</td>\n",
       "    </tr>\n",
       "    <tr>\n",
       "      <th>497469</th>\n",
       "      <td>ZBH</td>\n",
       "      <td>2017-12-29</td>\n",
       "      <td>121.7500</td>\n",
       "      <td>121.9500</td>\n",
       "      <td>120.6200</td>\n",
       "      <td>120.6700</td>\n",
       "      <td>1023624</td>\n",
       "    </tr>\n",
       "    <tr>\n",
       "      <th>497470</th>\n",
       "      <td>ZION</td>\n",
       "      <td>2017-12-29</td>\n",
       "      <td>51.2800</td>\n",
       "      <td>51.5500</td>\n",
       "      <td>50.8100</td>\n",
       "      <td>50.8300</td>\n",
       "      <td>1261916</td>\n",
       "    </tr>\n",
       "    <tr>\n",
       "      <th>497471</th>\n",
       "      <td>ZTS</td>\n",
       "      <td>2017-12-29</td>\n",
       "      <td>72.5500</td>\n",
       "      <td>72.7600</td>\n",
       "      <td>72.0400</td>\n",
       "      <td>72.0400</td>\n",
       "      <td>1704122</td>\n",
       "    </tr>\n",
       "  </tbody>\n",
       "</table>\n",
       "<p>497472 rows × 7 columns</p>\n",
       "</div>"
      ],
      "text/plain": [
       "       symbol       date      open      high       low     close    volume\n",
       "0         AAL 2014-01-02   25.0700   25.8200   25.0600   25.3600   8998943\n",
       "1        AAPL 2014-01-02   79.3828   79.5756   78.8601   79.0185  58791957\n",
       "2         AAP 2014-01-02  110.3600  111.8800  109.2900  109.7400    542711\n",
       "3        ABBV 2014-01-02   52.1200   52.3300   51.5200   51.9800   4569061\n",
       "4         ABC 2014-01-02   70.1100   70.2300   69.4800   69.8900   1148391\n",
       "...       ...        ...       ...       ...       ...       ...       ...\n",
       "497467    XYL 2017-12-29   68.5300   68.8000   67.9200   68.2000   1046677\n",
       "497468    YUM 2017-12-29   82.6400   82.7100   81.5900   81.6100   1347613\n",
       "497469    ZBH 2017-12-29  121.7500  121.9500  120.6200  120.6700   1023624\n",
       "497470   ZION 2017-12-29   51.2800   51.5500   50.8100   50.8300   1261916\n",
       "497471    ZTS 2017-12-29   72.5500   72.7600   72.0400   72.0400   1704122\n",
       "\n",
       "[497472 rows x 7 columns]"
      ]
     },
     "execution_count": 9,
     "metadata": {},
     "output_type": "execute_result"
    }
   ],
   "source": [
    "df.drop_duplicates()"
   ]
  },
  {
   "cell_type": "code",
   "execution_count": 12,
   "id": "6081a8cd-87c4-4826-bbbc-d09d7215cb99",
   "metadata": {},
   "outputs": [
    {
     "data": {
      "text/plain": [
       "symbol            object\n",
       "date      datetime64[ns]\n",
       "open             float64\n",
       "high             float64\n",
       "low              float64\n",
       "close            float64\n",
       "volume             int64\n",
       "dtype: object"
      ]
     },
     "execution_count": 12,
     "metadata": {},
     "output_type": "execute_result"
    }
   ],
   "source": [
    "df.dtypes"
   ]
  },
  {
   "cell_type": "markdown",
   "id": "24d51746-0d10-444c-920e-fb225c74d802",
   "metadata": {},
   "source": [
    "## Questions"
   ]
  },
  {
   "cell_type": "markdown",
   "id": "8041d6d2-65c7-48fe-9050-41f8f5ba8084",
   "metadata": {},
   "source": [
    "1. Którego dnia w próbce odnotowano największy ogólny wolumen handlu? Które dwa akcje były tego dnia najczęściej obrotowe?\n",
    "2. W który dzień tygodnia wolumen zwykle jest najwyższy? A kiedy najniższy?\n",
    "3. W którym dniu firma Amazon (AMZN) odnotowała największą zmienność, mierzoną różnicą między ceną najwyższą a najniższą?\n",
    "4. Gdybyś mógł cofnąć się w czasie i zainwestować w jedną akcję od 02/01/2014 do 29/12/2017, którą byś wybrał? Jaki % zysku byś zrealizował?"
   ]
  },
  {
   "cell_type": "code",
   "execution_count": 24,
   "id": "ecbe2a75-0aeb-4076-8113-16cd0c267d24",
   "metadata": {},
   "outputs": [],
   "source": [
    "# Którego dnia w próbce odnotowano największy ogólny wolumen handlu? Które dwa akcje były tego dnia najczęściej obrotowe?\n",
    "# czyli najpierw trzeba pogrupować po date i zsumować wolumen\n",
    "# a potem wyfiltrować df od nowa po tej dacie z najwyższym wolumenem i odfiltrować dwie akcje z najwyższym"
   ]
  },
  {
   "cell_type": "code",
   "execution_count": 35,
   "id": "4c59b69a-0b33-4db5-888c-ab8bdd39a645",
   "metadata": {},
   "outputs": [
    {
     "data": {
      "text/plain": [
       "date      2015-08-24 00:00:00\n",
       "open               38249.4625\n",
       "high               40181.1679\n",
       "low                36819.6381\n",
       "close              38751.2613\n",
       "volume             4607945196\n",
       "Name: 0, dtype: object"
      ]
     },
     "execution_count": 35,
     "metadata": {},
     "output_type": "execute_result"
    }
   ],
   "source": [
    "groupped = df.groupby('date')\n",
    "groupped = groupped.sum('volume').sort_values('volume', ascending = False)\n",
    "groupped.reset_index().iloc[0]"
   ]
  },
  {
   "cell_type": "code",
   "execution_count": 44,
   "id": "f9707b86-c52a-4b99-9c67-19d0d15d7aed",
   "metadata": {},
   "outputs": [
    {
     "data": {
      "text/html": [
       "<div>\n",
       "<style scoped>\n",
       "    .dataframe tbody tr th:only-of-type {\n",
       "        vertical-align: middle;\n",
       "    }\n",
       "\n",
       "    .dataframe tbody tr th {\n",
       "        vertical-align: top;\n",
       "    }\n",
       "\n",
       "    .dataframe thead th {\n",
       "        text-align: right;\n",
       "    }\n",
       "</style>\n",
       "<table border=\"1\" class=\"dataframe\">\n",
       "  <thead>\n",
       "    <tr style=\"text-align: right;\">\n",
       "      <th></th>\n",
       "      <th>symbol</th>\n",
       "      <th>volume</th>\n",
       "    </tr>\n",
       "  </thead>\n",
       "  <tbody>\n",
       "    <tr>\n",
       "      <th>201266</th>\n",
       "      <td>BAC</td>\n",
       "      <td>214649482</td>\n",
       "    </tr>\n",
       "    <tr>\n",
       "      <th>201209</th>\n",
       "      <td>AAPL</td>\n",
       "      <td>162206292</td>\n",
       "    </tr>\n",
       "  </tbody>\n",
       "</table>\n",
       "</div>"
      ],
      "text/plain": [
       "       symbol     volume\n",
       "201266    BAC  214649482\n",
       "201209   AAPL  162206292"
      ]
     },
     "execution_count": 44,
     "metadata": {},
     "output_type": "execute_result"
    }
   ],
   "source": [
    "two_highest = df[df['date'] == '2015-08-24'].sort_values('volume', ascending = False)\n",
    "two_highest[['symbol', 'volume']].nlargest(2, 'volume')"
   ]
  },
  {
   "cell_type": "code",
   "execution_count": 45,
   "id": "c042e4e6-9b3d-4931-9143-12a5e411947a",
   "metadata": {},
   "outputs": [],
   "source": [
    "# W który dzień tygodnia wolumen zwykle jest najwyższy? A kiedy najniższy?"
   ]
  },
  {
   "cell_type": "code",
   "execution_count": 54,
   "id": "4fe5d8c0-cee2-4e57-95a5-3ef5f01f0a99",
   "metadata": {},
   "outputs": [],
   "source": [
    "df['weekday'] = df['date'].dt.day_name()"
   ]
  },
  {
   "cell_type": "code",
   "execution_count": 56,
   "id": "60479cb1-8034-4943-90ea-67cc309a65cf",
   "metadata": {},
   "outputs": [],
   "source": [
    "df = df.drop(['day'], axis = 1)"
   ]
  },
  {
   "cell_type": "code",
   "execution_count": 86,
   "id": "30c95109-fc2a-4f1c-9ecd-d4b48f522399",
   "metadata": {},
   "outputs": [],
   "source": [
    "del weekly"
   ]
  },
  {
   "cell_type": "code",
   "execution_count": 88,
   "id": "dfef04ca-c580-43a1-9d62-f5ade989ec04",
   "metadata": {},
   "outputs": [],
   "source": [
    "del weeks"
   ]
  },
  {
   "cell_type": "code",
   "execution_count": 112,
   "id": "9dfa1e41-063e-4a53-aa6b-98e2d958af6c",
   "metadata": {},
   "outputs": [
    {
     "name": "stderr",
     "output_type": "stream",
     "text": [
      "C:\\Users\\majak\\AppData\\Local\\Temp\\ipykernel_22688\\1550911910.py:1: FutureWarning: The default of observed=False is deprecated and will be changed to True in a future version of pandas. Pass observed=False to retain current behavior or observed=True to adopt the future default and silence this warning.\n",
      "  weekly = df.groupby('weekday').mean('volume').round(2)\n"
     ]
    }
   ],
   "source": [
    "weekly = df.groupby('weekday').mean('volume').round(2)"
   ]
  },
  {
   "cell_type": "code",
   "execution_count": 113,
   "id": "dc0d7336-e46f-404b-89e6-90529834cd1f",
   "metadata": {},
   "outputs": [],
   "source": [
    "weekly = weekly.reset_index()"
   ]
  },
  {
   "cell_type": "code",
   "execution_count": 114,
   "id": "443b4a5c-34ac-4716-9bad-9f2d49a1ed5b",
   "metadata": {},
   "outputs": [],
   "source": [
    "days_of_week = ['Monday', 'Tuesday', 'Wednesday', 'Thursday', 'Friday']\n",
    "df['weekday'] = pd.Categorical(df['weekday'], categories=days_of_week, ordered=True)"
   ]
  },
  {
   "cell_type": "code",
   "execution_count": 115,
   "id": "7ca31850-1bc8-4bf2-ab2a-2b2dd0a4b6a8",
   "metadata": {},
   "outputs": [
    {
     "data": {
      "text/html": [
       "<div>\n",
       "<style scoped>\n",
       "    .dataframe tbody tr th:only-of-type {\n",
       "        vertical-align: middle;\n",
       "    }\n",
       "\n",
       "    .dataframe tbody tr th {\n",
       "        vertical-align: top;\n",
       "    }\n",
       "\n",
       "    .dataframe thead th {\n",
       "        text-align: right;\n",
       "    }\n",
       "</style>\n",
       "<table border=\"1\" class=\"dataframe\">\n",
       "  <thead>\n",
       "    <tr style=\"text-align: right;\">\n",
       "      <th></th>\n",
       "      <th>weekday</th>\n",
       "      <th>open</th>\n",
       "      <th>high</th>\n",
       "      <th>low</th>\n",
       "      <th>close</th>\n",
       "      <th>volume</th>\n",
       "    </tr>\n",
       "  </thead>\n",
       "  <tbody>\n",
       "    <tr>\n",
       "      <th>0</th>\n",
       "      <td>Monday</td>\n",
       "      <td>86.32</td>\n",
       "      <td>87.08</td>\n",
       "      <td>85.53</td>\n",
       "      <td>86.32</td>\n",
       "      <td>4031171.76</td>\n",
       "    </tr>\n",
       "    <tr>\n",
       "      <th>1</th>\n",
       "      <td>Tuesday</td>\n",
       "      <td>86.25</td>\n",
       "      <td>87.02</td>\n",
       "      <td>85.47</td>\n",
       "      <td>86.27</td>\n",
       "      <td>4188689.13</td>\n",
       "    </tr>\n",
       "    <tr>\n",
       "      <th>2</th>\n",
       "      <td>Wednesday</td>\n",
       "      <td>86.38</td>\n",
       "      <td>87.17</td>\n",
       "      <td>85.56</td>\n",
       "      <td>86.42</td>\n",
       "      <td>4298572.42</td>\n",
       "    </tr>\n",
       "    <tr>\n",
       "      <th>3</th>\n",
       "      <td>Thursday</td>\n",
       "      <td>86.31</td>\n",
       "      <td>87.11</td>\n",
       "      <td>85.49</td>\n",
       "      <td>86.32</td>\n",
       "      <td>4299304.24</td>\n",
       "    </tr>\n",
       "    <tr>\n",
       "      <th>4</th>\n",
       "      <td>Friday</td>\n",
       "      <td>86.51</td>\n",
       "      <td>87.27</td>\n",
       "      <td>85.72</td>\n",
       "      <td>86.51</td>\n",
       "      <td>4435781.81</td>\n",
       "    </tr>\n",
       "  </tbody>\n",
       "</table>\n",
       "</div>"
      ],
      "text/plain": [
       "     weekday   open   high    low  close      volume\n",
       "0     Monday  86.32  87.08  85.53  86.32  4031171.76\n",
       "1    Tuesday  86.25  87.02  85.47  86.27  4188689.13\n",
       "2  Wednesday  86.38  87.17  85.56  86.42  4298572.42\n",
       "3   Thursday  86.31  87.11  85.49  86.32  4299304.24\n",
       "4     Friday  86.51  87.27  85.72  86.51  4435781.81"
      ]
     },
     "execution_count": 115,
     "metadata": {},
     "output_type": "execute_result"
    }
   ],
   "source": [
    "weekly = weekly.sort_values('weekday')\n",
    "weekly"
   ]
  },
  {
   "cell_type": "code",
   "execution_count": 116,
   "id": "158f6655-610b-47ba-9b11-0108a6156b68",
   "metadata": {},
   "outputs": [
    {
     "data": {
      "text/plain": [
       "<Axes: xlabel='weekday', ylabel='volume'>"
      ]
     },
     "execution_count": 116,
     "metadata": {},
     "output_type": "execute_result"
    },
    {
     "data": {
      "image/png": "[encoded data removed]",
      "text/plain": [
       "<Figure size 640x480 with 1 Axes>"
      ]
     },
     "metadata": {},
     "output_type": "display_data"
    }
   ],
   "source": [
    "sns.barplot(x = 'weekday', y = 'volume', data = weekly)"
   ]
  },
  {
   "cell_type": "code",
   "execution_count": 117,
   "id": "7fdc3fe6-b7e5-4d68-b443-70296291d136",
   "metadata": {},
   "outputs": [],
   "source": [
    "# W którym dniu firma Amazon (AMZN) odnotowała największą zmienność, mierzoną różnicą między ceną najwyższą a najniższą?"
   ]
  },
  {
   "cell_type": "code",
   "execution_count": 120,
   "id": "5c594cb1-4f89-489c-b01b-ee31634c87d3",
   "metadata": {},
   "outputs": [],
   "source": [
    "amazon = df[df['symbol'] == 'AMZN']"
   ]
  },
  {
   "cell_type": "code",
   "execution_count": 123,
   "id": "8cbb13d6-e6f7-4880-a6f1-44f2c110bd83",
   "metadata": {},
   "outputs": [
    {
     "name": "stderr",
     "output_type": "stream",
     "text": [
      "C:\\Users\\majak\\AppData\\Local\\Temp\\ipykernel_22688\\2738903618.py:1: SettingWithCopyWarning: \n",
      "A value is trying to be set on a copy of a slice from a DataFrame.\n",
      "Try using .loc[row_indexer,col_indexer] = value instead\n",
      "\n",
      "See the caveats in the documentation: https://pandas.pydata.org/pandas-docs/stable/user_guide/indexing.html#returning-a-view-versus-a-copy\n",
      "  amazon['difference'] = df['high'] - df['low']\n"
     ]
    }
   ],
   "source": [
    "amazon['difference'] = df['high'] - df['low']"
   ]
  },
  {
   "cell_type": "code",
   "execution_count": 126,
   "id": "b5fd6e08-5abc-4441-b047-8c48204dcf9f",
   "metadata": {},
   "outputs": [
    {
     "data": {
      "text/plain": [
       "date          2017-06-09 00:00:00\n",
       "difference                  85.99\n",
       "Name: 426023, dtype: object"
      ]
     },
     "execution_count": 126,
     "metadata": {},
     "output_type": "execute_result"
    }
   ],
   "source": [
    "amazon[['date', 'difference']].sort_values('difference', ascending = False).iloc[0]"
   ]
  },
  {
   "cell_type": "code",
   "execution_count": 127,
   "id": "60d4bc12-2e3d-4ceb-be6f-9f701ea7098d",
   "metadata": {},
   "outputs": [],
   "source": [
    "# Gdybyś mógł cofnąć się w czasie i zainwestować w jedną akcję od 02/01/2014 do 29/12/2017, którą byś wybrał? Jaki % zysku byś zrealizował?"
   ]
  },
  {
   "cell_type": "code",
   "execution_count": 133,
   "id": "72fc0307-0f71-4bce-9127-7ed8b75f5aed",
   "metadata": {},
   "outputs": [],
   "source": [
    "period = df[(df['date'] >= '2014-01-02') & (df['date'] <= '2017-12-29')]"
   ]
  },
  {
   "cell_type": "code",
   "execution_count": 135,
   "id": "eee911dd-2640-4334-8166-8495ab9133e8",
   "metadata": {},
   "outputs": [],
   "source": [
    "period['profit'] = period['close'] - period['open']"
   ]
  },
  {
   "cell_type": "code",
   "execution_count": 137,
   "id": "8975071c-4d3c-4817-8dad-177c03980a05",
   "metadata": {},
   "outputs": [
    {
     "data": {
      "text/html": [
       "<div>\n",
       "<style scoped>\n",
       "    .dataframe tbody tr th:only-of-type {\n",
       "        vertical-align: middle;\n",
       "    }\n",
       "\n",
       "    .dataframe tbody tr th {\n",
       "        vertical-align: top;\n",
       "    }\n",
       "\n",
       "    .dataframe thead th {\n",
       "        text-align: right;\n",
       "    }\n",
       "</style>\n",
       "<table border=\"1\" class=\"dataframe\">\n",
       "  <thead>\n",
       "    <tr style=\"text-align: right;\">\n",
       "      <th></th>\n",
       "      <th>symbol</th>\n",
       "      <th>date</th>\n",
       "      <th>open</th>\n",
       "      <th>high</th>\n",
       "      <th>low</th>\n",
       "      <th>close</th>\n",
       "      <th>volume</th>\n",
       "      <th>weekday</th>\n",
       "      <th>profit</th>\n",
       "    </tr>\n",
       "  </thead>\n",
       "  <tbody>\n",
       "    <tr>\n",
       "      <th>48230</th>\n",
       "      <td>PCLN</td>\n",
       "      <td>2014-05-27</td>\n",
       "      <td>1206.16</td>\n",
       "      <td>1259.84</td>\n",
       "      <td>1206.16</td>\n",
       "      <td>1259.1100</td>\n",
       "      <td>1349648</td>\n",
       "      <td>Tuesday</td>\n",
       "      <td>52.95</td>\n",
       "    </tr>\n",
       "    <tr>\n",
       "      <th>71540</th>\n",
       "      <td>PCLN</td>\n",
       "      <td>2014-08-04</td>\n",
       "      <td>1247.55</td>\n",
       "      <td>1307.09</td>\n",
       "      <td>1246.53</td>\n",
       "      <td>1299.9200</td>\n",
       "      <td>1369570</td>\n",
       "      <td>Monday</td>\n",
       "      <td>52.37</td>\n",
       "    </tr>\n",
       "    <tr>\n",
       "      <th>29811</th>\n",
       "      <td>PCLN</td>\n",
       "      <td>2014-04-01</td>\n",
       "      <td>1203.21</td>\n",
       "      <td>1251.84</td>\n",
       "      <td>1201.11</td>\n",
       "      <td>1251.3700</td>\n",
       "      <td>1212325</td>\n",
       "      <td>Tuesday</td>\n",
       "      <td>48.16</td>\n",
       "    </tr>\n",
       "    <tr>\n",
       "      <th>299083</th>\n",
       "      <td>PCLN</td>\n",
       "      <td>2016-06-06</td>\n",
       "      <td>1302.52</td>\n",
       "      <td>1351.74</td>\n",
       "      <td>1299.08</td>\n",
       "      <td>1349.1000</td>\n",
       "      <td>842668</td>\n",
       "      <td>Monday</td>\n",
       "      <td>46.58</td>\n",
       "    </tr>\n",
       "    <tr>\n",
       "      <th>480173</th>\n",
       "      <td>PCLN</td>\n",
       "      <td>2017-11-09</td>\n",
       "      <td>1656.93</td>\n",
       "      <td>1707.22</td>\n",
       "      <td>1640.17</td>\n",
       "      <td>1703.1400</td>\n",
       "      <td>1240330</td>\n",
       "      <td>Thursday</td>\n",
       "      <td>46.21</td>\n",
       "    </tr>\n",
       "    <tr>\n",
       "      <th>...</th>\n",
       "      <td>...</td>\n",
       "      <td>...</td>\n",
       "      <td>...</td>\n",
       "      <td>...</td>\n",
       "      <td>...</td>\n",
       "      <td>...</td>\n",
       "      <td>...</td>\n",
       "      <td>...</td>\n",
       "      <td>...</td>\n",
       "    </tr>\n",
       "    <tr>\n",
       "      <th>249223</th>\n",
       "      <td>DHR</td>\n",
       "      <td>2016-01-12</td>\n",
       "      <td>NaN</td>\n",
       "      <td>NaN</td>\n",
       "      <td>NaN</td>\n",
       "      <td>88.5500</td>\n",
       "      <td>0</td>\n",
       "      <td>Tuesday</td>\n",
       "      <td>NaN</td>\n",
       "    </tr>\n",
       "    <tr>\n",
       "      <th>249438</th>\n",
       "      <td>O</td>\n",
       "      <td>2016-01-12</td>\n",
       "      <td>NaN</td>\n",
       "      <td>NaN</td>\n",
       "      <td>NaN</td>\n",
       "      <td>52.4300</td>\n",
       "      <td>0</td>\n",
       "      <td>Tuesday</td>\n",
       "      <td>NaN</td>\n",
       "    </tr>\n",
       "    <tr>\n",
       "      <th>278801</th>\n",
       "      <td>UA</td>\n",
       "      <td>2016-04-07</td>\n",
       "      <td>NaN</td>\n",
       "      <td>NaN</td>\n",
       "      <td>NaN</td>\n",
       "      <td>41.5600</td>\n",
       "      <td>0</td>\n",
       "      <td>Thursday</td>\n",
       "      <td>NaN</td>\n",
       "    </tr>\n",
       "    <tr>\n",
       "      <th>308365</th>\n",
       "      <td>FTV</td>\n",
       "      <td>2016-07-01</td>\n",
       "      <td>NaN</td>\n",
       "      <td>NaN</td>\n",
       "      <td>NaN</td>\n",
       "      <td>49.5400</td>\n",
       "      <td>0</td>\n",
       "      <td>Friday</td>\n",
       "      <td>NaN</td>\n",
       "    </tr>\n",
       "    <tr>\n",
       "      <th>442107</th>\n",
       "      <td>BHF</td>\n",
       "      <td>2017-07-26</td>\n",
       "      <td>NaN</td>\n",
       "      <td>NaN</td>\n",
       "      <td>NaN</td>\n",
       "      <td>69.0842</td>\n",
       "      <td>3</td>\n",
       "      <td>Wednesday</td>\n",
       "      <td>NaN</td>\n",
       "    </tr>\n",
       "  </tbody>\n",
       "</table>\n",
       "<p>497472 rows × 9 columns</p>\n",
       "</div>"
      ],
      "text/plain": [
       "       symbol       date     open     high      low      close   volume  \\\n",
       "48230    PCLN 2014-05-27  1206.16  1259.84  1206.16  1259.1100  1349648   \n",
       "71540    PCLN 2014-08-04  1247.55  1307.09  1246.53  1299.9200  1369570   \n",
       "29811    PCLN 2014-04-01  1203.21  1251.84  1201.11  1251.3700  1212325   \n",
       "299083   PCLN 2016-06-06  1302.52  1351.74  1299.08  1349.1000   842668   \n",
       "480173   PCLN 2017-11-09  1656.93  1707.22  1640.17  1703.1400  1240330   \n",
       "...       ...        ...      ...      ...      ...        ...      ...   \n",
       "249223    DHR 2016-01-12      NaN      NaN      NaN    88.5500        0   \n",
       "249438      O 2016-01-12      NaN      NaN      NaN    52.4300        0   \n",
       "278801     UA 2016-04-07      NaN      NaN      NaN    41.5600        0   \n",
       "308365    FTV 2016-07-01      NaN      NaN      NaN    49.5400        0   \n",
       "442107    BHF 2017-07-26      NaN      NaN      NaN    69.0842        3   \n",
       "\n",
       "          weekday  profit  \n",
       "48230     Tuesday   52.95  \n",
       "71540      Monday   52.37  \n",
       "29811     Tuesday   48.16  \n",
       "299083     Monday   46.58  \n",
       "480173   Thursday   46.21  \n",
       "...           ...     ...  \n",
       "249223    Tuesday     NaN  \n",
       "249438    Tuesday     NaN  \n",
       "278801   Thursday     NaN  \n",
       "308365     Friday     NaN  \n",
       "442107  Wednesday     NaN  \n",
       "\n",
       "[497472 rows x 9 columns]"
      ]
     },
     "execution_count": 137,
     "metadata": {},
     "output_type": "execute_result"
    }
   ],
   "source": [
    "period.sort_values('profit', ascending = False)"
   ]
  },
  {
   "cell_type": "code",
   "execution_count": 140,
   "id": "f225f456-5357-4139-a35b-6fab89d4a2bf",
   "metadata": {},
   "outputs": [],
   "source": [
    "highest_profit = period[(period['symbol'] =='PCLN') & (period['date'] == '2014-05-27')]"
   ]
  },
  {
   "cell_type": "code",
   "execution_count": 144,
   "id": "162fef32-c356-4062-9cad-9d7fa3f3099b",
   "metadata": {},
   "outputs": [
    {
     "name": "stderr",
     "output_type": "stream",
     "text": [
      "C:\\Users\\majak\\AppData\\Local\\Temp\\ipykernel_22688\\3618317907.py:1: SettingWithCopyWarning: \n",
      "A value is trying to be set on a copy of a slice from a DataFrame.\n",
      "Try using .loc[row_indexer,col_indexer] = value instead\n",
      "\n",
      "See the caveats in the documentation: https://pandas.pydata.org/pandas-docs/stable/user_guide/indexing.html#returning-a-view-versus-a-copy\n",
      "  highest_profit['%_profit'] = ((highest_profit['profit'] / highest_profit['open'] ) *100).round(2)\n"
     ]
    }
   ],
   "source": [
    "highest_profit['%_profit'] = ((highest_profit['profit'] / highest_profit['open'] ) *100).round(2)"
   ]
  },
  {
   "cell_type": "code",
   "execution_count": 146,
   "id": "a42cb8e5-4a0e-41bf-84c1-d21c6364672c",
   "metadata": {},
   "outputs": [
    {
     "data": {
      "text/html": [
       "<div>\n",
       "<style scoped>\n",
       "    .dataframe tbody tr th:only-of-type {\n",
       "        vertical-align: middle;\n",
       "    }\n",
       "\n",
       "    .dataframe tbody tr th {\n",
       "        vertical-align: top;\n",
       "    }\n",
       "\n",
       "    .dataframe thead th {\n",
       "        text-align: right;\n",
       "    }\n",
       "</style>\n",
       "<table border=\"1\" class=\"dataframe\">\n",
       "  <thead>\n",
       "    <tr style=\"text-align: right;\">\n",
       "      <th></th>\n",
       "      <th>symbol</th>\n",
       "      <th>date</th>\n",
       "      <th>profit</th>\n",
       "      <th>%_profit</th>\n",
       "    </tr>\n",
       "  </thead>\n",
       "  <tbody>\n",
       "    <tr>\n",
       "      <th>48230</th>\n",
       "      <td>PCLN</td>\n",
       "      <td>2014-05-27</td>\n",
       "      <td>52.95</td>\n",
       "      <td>4.39</td>\n",
       "    </tr>\n",
       "  </tbody>\n",
       "</table>\n",
       "</div>"
      ],
      "text/plain": [
       "      symbol       date  profit  %_profit\n",
       "48230   PCLN 2014-05-27   52.95      4.39"
      ]
     },
     "execution_count": 146,
     "metadata": {},
     "output_type": "execute_result"
    }
   ],
   "source": [
    "highest_profit[['symbol', 'date', 'profit', '%_profit']]"
   ]
  },
  {
   "cell_type": "code",
   "execution_count": null,
   "id": "a232dc3f-392c-44c3-ba0a-1e03023b0c8f",
   "metadata": {},
   "outputs": [],
   "source": []
  },
  {
   "cell_type": "code",
   "execution_count": null,
   "id": "7c57ac28-34fb-467a-9092-e156a4dc3d97",
   "metadata": {},
   "outputs": [],
   "source": []
  },
  {
   "cell_type": "code",
   "execution_count": null,
   "id": "b95ae832-928a-4e65-b593-5247a2b67067",
   "metadata": {},
   "outputs": [],
   "source": []
  },
  {
   "cell_type": "code",
   "execution_count": null,
   "id": "2e23221c-fb54-46fe-b194-d891136a594d",
   "metadata": {},
   "outputs": [],
   "source": []
  },
  {
   "cell_type": "code",
   "execution_count": null,
   "id": "5bcbab5d-6271-4841-b210-b46e8301867a",
   "metadata": {},
   "outputs": [],
   "source": []
  },
  {
   "cell_type": "code",
   "execution_count": null,
   "id": "300b8d4d-ab18-4f61-8d36-9958e28eee95",
   "metadata": {},
   "outputs": [],
   "source": []
  }
 ],
 "metadata": {
  "kernelspec": {
   "display_name": "Python 3 (ipykernel)",
   "language": "python",
   "name": "python3"
  },
  "language_info": {
   "codemirror_mode": {
    "name": "ipython",
    "version": 3
   },
   "file_extension": ".py",
   "mimetype": "text/x-python",
   "name": "python",
   "nbconvert_exporter": "python",
   "pygments_lexer": "ipython3",
   "version": "3.12.3"
  }
 },
 "nbformat": 4,
 "nbformat_minor": 5
}
